{
 "cells": [
  {
   "cell_type": "markdown",
   "metadata": {},
   "source": [
    "I have read before that Hoare Partitioning is faster by a constant factor than the Lomuto Partitioning. This will clearly have an important impact on the performance of Quick Sort. Here, I wanted to check that and see if it holds true in practice, and if so, what that constant factor might be. Let's define the two partitioning schemes below:"
   ]
  },
  {
   "cell_type": "code",
   "execution_count": 12,
   "metadata": {
    "collapsed": true
   },
   "outputs": [],
   "source": [
    "def Lomuto_Partitioning(A, p, r):\n",
    "    x = A[r]\n",
    "    i = p - 1\n",
    "    for j in range(p, r):\n",
    "        if A[j] <= x:\n",
    "            i += 1\n",
    "            A[i], A[j] = A[j], A[i]\n",
    "    A[i+1], A[r] = A[r], A[i+1]\n",
    "    return i + 1\n",
    "\n",
    "def Hoare_Partitioning(A, p, r):\n",
    "    x = A[p]\n",
    "    i = p - 1\n",
    "    j = r + 1\n",
    "    while True:\n",
    "        while True:\n",
    "            j = j - 1\n",
    "            if A[j] <= x:\n",
    "                break\n",
    "        while True:\n",
    "            i = i + 1\n",
    "            if A[i] >= x:\n",
    "                break\n",
    "        if i < j:\n",
    "            A[i], A[j] = A[j], A[i]\n",
    "        else:\n",
    "            return j"
   ]
  },
  {
   "cell_type": "markdown",
   "metadata": {},
   "source": [
    "Let us quickly test the functions:"
   ]
  },
  {
   "cell_type": "code",
   "execution_count": 9,
   "metadata": {
    "collapsed": false
   },
   "outputs": [
    {
     "name": "stdout",
     "output_type": "stream",
     "text": [
      "[-1, 3, 2, 1, 0, 4, 5, 8]\n",
      "[0, 2, 1, 3, 5, 4]\n"
     ]
    }
   ],
   "source": [
    "l = [-1, 8,3,2,1,0,5,4]\n",
    "Lomuto_Partitioning(l, 0, len(l) - 1)\n",
    "print(l)\n",
    "l = [3,2,1,0,5,4]\n",
    "Hoare_Partitioning(l, 0, len(l) - 1)\n",
    "print(l)"
   ]
  },
  {
   "cell_type": "markdown",
   "metadata": {},
   "source": [
    "Now, lets write a test harness to compute the average execution time they both take. Since both algos are $O(n)$, we expect a linear graph."
   ]
  },
  {
   "cell_type": "code",
   "execution_count": 43,
   "metadata": {
    "collapsed": false
   },
   "outputs": [],
   "source": [
    "import random, timeit\n",
    "import matplotlib.pyplot as plt\n",
    "%matplotlib inline\n",
    "\n",
    "def getTimes(algo, max_n, k):\n",
    "    ret = []\n",
    "    for i in range(max_n):\n",
    "        acc = 0\n",
    "        for t in range(k):\n",
    "            samples = random.sample(range(1000000), i + 1)\n",
    "            t = timeit.Timer(lambda: algo(samples, 0, i - 1))\n",
    "            acc += t.timeit(number=10)\n",
    "        ret.append(acc/k)\n",
    "    return ret"
   ]
  },
  {
   "cell_type": "code",
   "execution_count": 46,
   "metadata": {
    "collapsed": false
   },
   "outputs": [
    {
     "data": {
      "text/plain": [
       "[<matplotlib.lines.Line2D at 0x7f97ff15c0b8>]"
      ]
     },
     "execution_count": 46,
     "metadata": {},
     "output_type": "execute_result"
    },
    {
     "data": {
      "image/png": "[encoded data removed]",
      "text/plain": [
       "<matplotlib.figure.Figure at 0x7f97ff15c0f0>"
      ]
     },
     "metadata": {},
     "output_type": "display_data"
    }
   ],
   "source": [
    "N = 1000; repeats = 10\n",
    "ltimes = getTimes(Lomuto_Partitioning, N, repeats)\n",
    "htimes = getTimes(Hoare_Partitioning, N, repeats)\n",
    "plt.plot(ltimes, 'b')\n",
    "plt.plot(htimes, 'r')"
   ]
  },
  {
   "cell_type": "markdown",
   "metadata": {},
   "source": [
    "I guess that is the result we were looking for. Clearly, the Hoare Partitioning scheme is significantly faster than Lomuto Partitioning, even if the former is somewhat more spiky than the latter. Let us now try to evaluate the ratio by fitting in a linear regression. Assuming that $T(0) = 0$ for both methods, we can model the times as:\n",
    "\n",
    "$$T_{Lomuto}(n) = \\alpha n$$\n",
    "$$T_{Hoare}(n) = \\beta n$$\n",
    "\n",
    "As such, \n",
    "$$\\frac{T_{Lomuto}}{T_{Hoare}} = \\tau = \\frac{\\alpha}{\\beta}$$"
   ]
  },
  {
   "cell_type": "code",
   "execution_count": 50,
   "metadata": {
    "collapsed": false
   },
   "outputs": [
    {
     "data": {
      "text/plain": [
       "(LinregressResult(slope=4.4946443664156631e-06, intercept=-1.1397909716478159e-06, rvalue=0.99920565110183091, pvalue=0.0, stderr=5.6742643712434564e-09),\n",
       " LinregressResult(slope=1.840124071238625e-06, intercept=-4.5354932719284674e-05, rvalue=0.9770346083283814, pvalue=0.0, stderr=1.2703282394895487e-08))"
      ]
     },
     "execution_count": 50,
     "metadata": {},
     "output_type": "execute_result"
    }
   ],
   "source": [
    "from scipy import stats\n",
    "import numpy as np\n",
    "\n",
    "stats.linregress(range(N), ltimes), stats.linregress(range(N), htimes)"
   ]
  },
  {
   "cell_type": "markdown",
   "metadata": {},
   "source": [
    "Well, clearly Lomuto is more *linear*. The intercept implies that Hoare partitioning is faster even at $N=0$ which is amusing. We can see that:"
   ]
  },
  {
   "cell_type": "code",
   "execution_count": 53,
   "metadata": {
    "collapsed": false
   },
   "outputs": [
    {
     "data": {
      "text/plain": [
       "(2.442576800481843, 59.05962916692194)"
      ]
     },
     "execution_count": 53,
     "metadata": {},
     "output_type": "execute_result"
    }
   ],
   "source": [
    "α, β = 4.4946443664156631e-06, 1.840124071238625e-06\n",
    "τ = α/β\n",
    "τ, (1 - 1/τ)*100.0"
   ]
  },
  {
   "cell_type": "markdown",
   "metadata": {},
   "source": [
    "So Lomuto Partitioning is 2.44 times slower than Hoare Partitioning and that the latter is a 59% improvement on the performance of the former. A quick look at the graph for small values of N:"
   ]
  },
  {
   "cell_type": "code",
   "execution_count": 54,
   "metadata": {
    "collapsed": false
   },
   "outputs": [
    {
     "data": {
      "text/plain": [
       "[<matplotlib.lines.Line2D at 0x7f97f8a85e48>]"
      ]
     },
     "execution_count": 54,
     "metadata": {},
     "output_type": "execute_result"
    },
    {
     "data": {
      "image/png": "[encoded data removed]",
      "text/plain": [
       "<matplotlib.figure.Figure at 0x7f97f8a85ef0>"
      ]
     },
     "metadata": {},
     "output_type": "display_data"
    }
   ],
   "source": [
    "N = 50; repeats = 100\n",
    "ltimes = getTimes(Lomuto_Partitioning, N, repeats)\n",
    "htimes = getTimes(Hoare_Partitioning, N, repeats)\n",
    "plt.plot(ltimes, 'b')\n",
    "plt.plot(htimes, 'r')"
   ]
  },
  {
   "cell_type": "markdown",
   "metadata": {},
   "source": [
    "For a brilliant theoretical exposition on the differences in speeds of the two algorithms, please refer to Sebastian Wild's [StackExchange answer](http://cs.stackexchange.com/a/11550). To summarize, the comparisons in case of both the algorithms are the same, however the number of swaps differ. It is expected that for swaps ($\\sigma$):\n",
    "\n",
    "$$\\sigma_{Lomuto} = \\frac{n}{2} - \\frac{1}{2}$$\n",
    "$$\\sigma_{hoare} = \\frac{n}{6} - \\frac{1}{3}$$\n",
    "\n",
    "There is a gap here. Going by the above formulae, Hoare Partitioning should have been about 3 times faster, if one goes by the number of swaps alone. It is a bit slower than that in practice. Clearly, the amount being spent on swaps is a fraction (granted, large) of the amount of time being spent on the sorting. \n",
    "\n",
    "Let us assume that beyond the swaps, there is an extra overhead factor $\\lambda$ in both algorithms. Let $\\chi$ be $2.44$ as discovered empirically earlier. Hence,\n",
    "\n",
    "$$\\frac{\\sigma_{Lomuto}}{\\sigma_{Hoare}} = 3 \\land \\frac{\\sigma_{Lomuto} + \\lambda}{\\sigma_{Hoare} + \\lambda} = \\chi$$\n",
    "$$\\Rightarrow \\frac{3\\sigma_{Hoare} + \\lambda}{\\sigma_{Hoare} + \\lambda} = \\chi$$\n",
    "$$\\Rightarrow \\lambda = \\frac{3 - \\chi}{\\chi - 1}\\sigma_{Hoare}$$\n",
    "\n",
    "The percentage of time spent swapping in Lomuto Partitioning is:\n",
    "$$100\\frac{\\sigma_{Lomuto}}{\\lambda + \\sigma_{Lomuto}}$$ \n",
    "Similarly, for Hoare Partitioning,\n",
    "$$100\\frac{\\sigma_{Hoare}}{\\lambda + \\sigma_{hoare}}$$\n",
    "\n",
    "These work out to be:"
   ]
  },
  {
   "cell_type": "code",
   "execution_count": 58,
   "metadata": {
    "collapsed": false
   },
   "outputs": [
    {
     "data": {
      "text/plain": [
       "(88.52459016393442, 72.0)"
      ]
     },
     "execution_count": 58,
     "metadata": {},
     "output_type": "execute_result"
    }
   ],
   "source": [
    "# Let sigma_hoare be 1. Hence, sigma_lomuto = 3, and \n",
    "lmbda = (3 - 2.44)/(2.44 - 1)\n",
    "100*(3/(lmbda+3)), 100*(1/(lmbda + 1))"
   ]
  },
  {
   "cell_type": "markdown",
   "metadata": {},
   "source": [
    "As expected, Lomuto Partitioning is spending more time in swapping elements in comparison to Hoare Partitioning. What this calculation tells us is that in either case, most of the time in both algorithms is spent in swapping. Comparison operations on the other hand are not as significant.\n",
    "\n",
    "These are partitioning schemes involving only a single pivot. Faster variants involving two pivots have been suggested by Sedgewick and Yaroslavskiy. Sebastian's paper [here](https://kluedo.ub.uni-kl.de/frontdoor/index/index/docId/3463) is a very interesting read and provides a very good perspective on the performance of the various partitioning schemes. \n",
    "\n",
    "As an aside, the default sort used in python and java is [TimSort](http://svn.python.org/projects/python/trunk/Objects/listsort.txt), which is a mergesort variant."
   ]
  },
  {
   "cell_type": "code",
   "execution_count": null,
   "metadata": {
    "collapsed": true
   },
   "outputs": [],
   "source": []
  }
 ],
 "metadata": {
  "anaconda-cloud": {},
  "kernelspec": {
   "display_name": "Python [Root]",
   "language": "python",
   "name": "Python [Root]"
  },
  "language_info": {
   "codemirror_mode": {
    "name": "ipython",
    "version": 3
   },
   "file_extension": ".py",
   "mimetype": "text/x-python",
   "name": "python",
   "nbconvert_exporter": "python",
   "pygments_lexer": "ipython3",
   "version": "3.5.2"
  }
 },
 "nbformat": 4,
 "nbformat_minor": 0
}
