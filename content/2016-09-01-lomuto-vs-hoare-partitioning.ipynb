{
 "cells": [
  {
   "cell_type": "markdown",
   "metadata": {},
   "source": [
    "I have read before that Hoare Partitioning is faster by a constant factor than the Lomuto Partitioning. This will clearly have an important impact on the performance of Quick Sort. Here, I wanted to check that and see if it holds true in practice, and if so, what that constant factor might be. Let's define the two partitioning schemes below:"
   ]
  },
  {
   "cell_type": "code",
   "execution_count": 2,
   "metadata": {
    "collapsed": true
   },
   "outputs": [],
   "source": [
    "def Lomuto_Partitioning(A, p, r):\n",
    "    x = A[r]\n",
    "    i = p - 1\n",
    "    for j in range(p, r):\n",
    "        if A[j] <= x:\n",
    "            i += 1\n",
    "            A[i], A[j] = A[j], A[i]\n",
    "    A[i+1], A[r] = A[r], A[i+1]\n",
    "    return i + 1\n",
    "\n",
    "def Hoare_Partitioning(A, p, r):\n",
    "    x = A[p]\n",
    "    i = p - 1\n",
    "    j = r + 1\n",
    "    while True:\n",
    "        while True:\n",
    "            j = j - 1\n",
    "            if A[j] <= x:\n",
    "                break\n",
    "        while True:\n",
    "            i = i + 1\n",
    "            if A[i] >= x:\n",
    "                break\n",
    "        if i < j:\n",
    "            A[i], A[j] = A[j], A[i]\n",
    "        else:\n",
    "            return j"
   ]
  },
  {
   "cell_type": "markdown",
   "metadata": {},
   "source": [
    "Let us quickly test the functions:"
   ]
  },
  {
   "cell_type": "code",
   "execution_count": 3,
   "metadata": {
    "collapsed": false
   },
   "outputs": [
    {
     "name": "stdout",
     "output_type": "stream",
     "text": [
      "[-1, 3, 2, 1, 0, 4, 5, 8]\n",
      "[0, 2, 1, 3, 5, 4]\n"
     ]
    }
   ],
   "source": [
    "l = [-1, 8,3,2,1,0,5,4]\n",
    "Lomuto_Partitioning(l, 0, len(l) - 1)\n",
    "print(l)\n",
    "l = [3,2,1,0,5,4]\n",
    "Hoare_Partitioning(l, 0, len(l) - 1)\n",
    "print(l)"
   ]
  },
  {
   "cell_type": "markdown",
   "metadata": {},
   "source": [
    "Now, lets write a test harness to compute the average execution time they both take. Since both algos are $O(n)$, we expect a linear graph."
   ]
  },
  {
   "cell_type": "code",
   "execution_count": 4,
   "metadata": {
    "collapsed": false
   },
   "outputs": [],
   "source": [
    "import random, timeit\n",
    "import matplotlib.pyplot as plt\n",
    "%matplotlib inline\n",
    "\n",
    "def getTimes(algo, max_n, k):\n",
    "    ret = []\n",
    "    for i in range(max_n):\n",
    "        acc = 0\n",
    "        for t in range(k):\n",
    "            samples = random.sample(range(1000000), i + 1)\n",
    "            t = timeit.Timer(lambda: algo(samples, 0, i - 1))\n",
    "            acc += t.timeit(number=10)\n",
    "        ret.append(acc/k)\n",
    "    return ret"
   ]
  },
  {
   "cell_type": "code",
   "execution_count": 5,
   "metadata": {
    "collapsed": false
   },
   "outputs": [
    {
     "data": {
      "text/plain": [
       "[<matplotlib.lines.Line2D at 0x7fd3115b4f28>]"
      ]
     },
     "execution_count": 5,
     "metadata": {},
     "output_type": "execute_result"
    },
    {
     "data": {
      "image/png": "[encoded data removed]",
      "text/plain": [
       "<matplotlib.figure.Figure at 0x7fd3115b4fd0>"
      ]
     },
     "metadata": {},
     "output_type": "display_data"
    }
   ],
   "source": [
    "N = 1000; repeats = 10\n",
    "ltimes = getTimes(Lomuto_Partitioning, N, repeats)\n",
    "htimes = getTimes(Hoare_Partitioning, N, repeats)\n",
    "plt.plot(ltimes, 'b')\n",
    "plt.plot(htimes, 'r')"
   ]
  },
  {
   "cell_type": "markdown",
   "metadata": {},
   "source": [
    "I guess that is the result we were looking for. Clearly, the Hoare Partitioning scheme is significantly faster than Lomuto Partitioning. The spikes are a result of a low number of repeats (10). They appear very differently in different runs. I reckon that they will smoothen out with a larger number. However, considering that the above timing function is $O(N^2)$, I'll quickly loose my patience. Let us now try to evaluate the ratio by fitting in a linear regression. Assuming that $T(0) = 0$ for both methods, we can model the times as:\n",
    "\n",
    "$$T_{Lomuto}(n) = \\alpha n$$\n",
    "$$T_{Hoare}(n) = \\beta n$$\n",
    "\n",
    "As such, \n",
    "$$\\frac{T_{Lomuto}}{T_{Hoare}} = \\tau = \\frac{\\alpha}{\\beta}$$"
   ]
  },
  {
   "cell_type": "code",
   "execution_count": 6,
   "metadata": {
    "collapsed": false
   },
   "outputs": [
    {
     "data": {
      "text/plain": [
       "(LinregressResult(slope=4.4127548431492482e-06, intercept=-3.7919224569345298e-05, rvalue=0.99471098338051822, pvalue=0.0, stderr=1.4423646554105099e-08),\n",
       " LinregressResult(slope=1.7498213725728755e-06, intercept=-2.9302747985439901e-05, rvalue=0.99881374993252714, pvalue=0.0, stderr=2.7003385908166518e-09))"
      ]
     },
     "execution_count": 6,
     "metadata": {},
     "output_type": "execute_result"
    }
   ],
   "source": [
    "from scipy import stats\n",
    "import numpy as np\n",
    "\n",
    "stats.linregress(range(N), ltimes), stats.linregress(range(N), htimes)"
   ]
  },
  {
   "cell_type": "markdown",
   "metadata": {},
   "source": [
    "Well, both are *very* linear, and the standard error is pretty low. The intercept implies that Hoare partitioning is faster even at $N=0$ which is amusing. Fortunately, the Y-intercepts are close enough to zero that we can neglect them for large n. We can see that:"
   ]
  },
  {
   "cell_type": "code",
   "execution_count": 7,
   "metadata": {
    "collapsed": false
   },
   "outputs": [
    {
     "data": {
      "text/plain": [
       "(2.442576800481843, 59.05962916692194)"
      ]
     },
     "execution_count": 7,
     "metadata": {},
     "output_type": "execute_result"
    }
   ],
   "source": [
    "α, β = 4.4946443664156631e-06, 1.840124071238625e-06\n",
    "τ = α/β\n",
    "τ, (1 - 1/τ)*100.0"
   ]
  },
  {
   "cell_type": "markdown",
   "metadata": {},
   "source": [
    "So Lomuto Partitioning is 2.44 times slower than Hoare Partitioning and that the latter is a 59% improvement on the performance of the former. A quick look at the graph for small values of N:"
   ]
  },
  {
   "cell_type": "code",
   "execution_count": 8,
   "metadata": {
    "collapsed": false
   },
   "outputs": [
    {
     "data": {
      "text/plain": [
       "[<matplotlib.lines.Line2D at 0x7fd2d8682438>]"
      ]
     },
     "execution_count": 8,
     "metadata": {},
     "output_type": "execute_result"
    },
    {
     "data": {
      "image/png": "[encoded data removed]",
      "text/plain": [
       "<matplotlib.figure.Figure at 0x7fd2d8682518>"
      ]
     },
     "metadata": {},
     "output_type": "display_data"
    }
   ],
   "source": [
    "N = 50; repeats = 100\n",
    "ltimes = getTimes(Lomuto_Partitioning, N, repeats)\n",
    "htimes = getTimes(Hoare_Partitioning, N, repeats)\n",
    "plt.plot(ltimes, 'b')\n",
    "plt.plot(htimes, 'r')"
   ]
  },
  {
   "cell_type": "markdown",
   "metadata": {},
   "source": [
    "For a brilliant theoretical exposition on the differences in speeds of the two algorithms, please refer to Sebastian Wild's [StackExchange answer](http://cs.stackexchange.com/a/11550). To summarize, the comparisons in case of both the algorithms are the same ($n-1$), however the number of swaps differ. It is expected that for swaps ($\\sigma$):\n",
    "\n",
    "$$\\sigma_{Lomuto} = \\frac{n}{2} - \\frac{1}{2}$$\n",
    "$$\\sigma_{hoare} = \\frac{n}{6} - \\frac{1}{3}$$\n",
    "\n",
    "There is a gap here. Going by the above formulae, Hoare Partitioning should have been about 3 times faster, if one goes by the number of swaps alone. It is a bit slower than that in practice. Clearly, the amount being spent on swaps is a fraction (granted, large) of the amount of time being spent on the sorting. \n",
    "\n",
    "Let us assume that beyond the swaps, there is an extra overhead factor $\\lambda$ in both algorithms. The comparisons could be considered a part of that, and let us neglect all constant order time components for the moment. Let us further assume that comparisons take $\\pi$ times the time of swaps to execute. Hence,\n",
    "\n",
    "$$(\\frac{\\sigma_{Lomuto}}{\\sigma_{Hoare}} = 3) \\land (\\frac{\\sigma_{Lomuto} + \\pi\\lambda}{\\sigma_{Hoare} + \\pi\\lambda} = \\tau)$$\n",
    "$$\\Rightarrow \\frac{3\\sigma_{Hoare} + \\pi\\lambda}{\\sigma_{Hoare} + \\pi\\lambda} = \\tau$$\n",
    "$$\\Rightarrow \\pi\\lambda = \\frac{3 - \\tau}{\\tau - 1}\\sigma_{Hoare}$$\n",
    "\n",
    "The percentage of time spent swapping in Lomuto Partitioning is:\n",
    "$$100\\frac{\\sigma_{Lomuto}}{\\pi\\lambda + \\sigma_{Lomuto}}$$ \n",
    "Similarly, for Hoare Partitioning,\n",
    "$$100\\frac{\\sigma_{Hoare}}{\\pi\\lambda + \\sigma_{hoare}}$$\n",
    "\n",
    "These work out to be:"
   ]
  },
  {
   "cell_type": "code",
   "execution_count": 10,
   "metadata": {
    "collapsed": false
   },
   "outputs": [
    {
     "data": {
      "text/plain": [
       "(0.38640798835248785, 88.58944375038288, 72.12884002409214)"
      ]
     },
     "execution_count": 10,
     "metadata": {},
     "output_type": "execute_result"
    }
   ],
   "source": [
    "# Let σ_hoare be 1. Hence, σ_lomuto = 3, and \n",
    "πλ = (3 - τ)/(τ - 1)\n",
    "πλ, 100 * (3 / (πλ + 3)), 100 * (1 / (πλ + 1))"
   ]
  },
  {
   "cell_type": "markdown",
   "metadata": {},
   "source": [
    "As expected, Lomuto Partitioning is spending more time in swapping elements in comparison to Hoare Partitioning. What this calculation tells us is that in either case, most of the time in both algorithms is spent in swapping. Comparison operations on the other hand are not as significant. However, the comparisons are more in number ($n - 1$). In fact, there are twice as many comparisons as swaps in Lomuto and six times as many in Hoare! From this, we can estimate $\\pi$ since:\n",
    "\n",
    "*Estimate From Lomuto:*\n",
    "\n",
    "$$\\frac{2k\\pi}{k} = \\frac{12}{88}$$\n",
    "\n",
    "*Estimate from Hoare:*\n",
    "\n",
    "$$\\frac{6k\\pi}{k} = \\frac{28}{72}$$"
   ]
  },
  {
   "cell_type": "code",
   "execution_count": 14,
   "metadata": {
    "collapsed": false
   },
   "outputs": [
    {
     "data": {
      "text/plain": [
       "(0.06440133139208135, 0.06440133139208132, 15.52762929561047)"
      ]
     },
     "execution_count": 14,
     "metadata": {},
     "output_type": "execute_result"
    }
   ],
   "source": [
    "a, b = 100 * (3 / (πλ + 3)), 100 * (1 / (πλ + 1))\n",
    "(100 - a)/(2 * a),(100 - b)/(6 * b), 1/(100 - b)*(6 * b)"
   ]
  },
  {
   "cell_type": "markdown",
   "metadata": {},
   "source": [
    "Well, atleast those agree perfectly, as they should. What is interesting is that this implies that comparisons are an order of magnitude cheaper than swaps, and in fact, in this case, we could estimate that swaps probably cost 15.5 times more than comparisons. \n",
    "\n",
    "In case of a swap, assuming write-back cacheing policy, the following things happen:\n",
    "1. Two ints are read from memory to cache\n",
    "2. Two ints are read from cache to CPU registers\n",
    "3. Two ints are written to cache\n",
    "\n",
    "In case of a comparison, 1 and 2 remain as above.\n",
    "1. Two ints are read from memory to cache\n",
    "2. Two ints are read from cache to CPU registers\n",
    "3. Comparison instruction is executed by the processor\n",
    "\n",
    "The only delta is 3. Referring [Norvig's numbers](http://norvig.com/21-days.html), if executing an instruction takes $1$ nanosec, fetching two ints from L2 cache take $7 * 2 = 14$ nanosecs. The numbers look a bit uncanny :-)\n",
    "\n",
    "These are classic partitioning schemes involving only a single pivot. Faster variants involving two pivots have been suggested by Sedgewick and Yaroslavskiy. Sebastian's paper [here](https://kluedo.ub.uni-kl.de/frontdoor/index/index/docId/3463) is a very interesting read and provides a very good perspective on the performance of the various partitioning schemes. \n",
    "\n",
    "As an aside, the default sort used in python and java is [TimSort](http://svn.python.org/projects/python/trunk/Objects/listsort.txt), which is a mergesort variant."
   ]
  }
 ],
 "metadata": {
  "anaconda-cloud": {},
  "kernelspec": {
   "display_name": "Python [Root]",
   "language": "python",
   "name": "Python [Root]"
  },
  "language_info": {
   "codemirror_mode": {
    "name": "ipython",
    "version": 3
   },
   "file_extension": ".py",
   "mimetype": "text/x-python",
   "name": "python",
   "nbconvert_exporter": "python",
   "pygments_lexer": "ipython3",
   "version": "3.5.2"
  }
 },
 "nbformat": 4,
 "nbformat_minor": 0
}
