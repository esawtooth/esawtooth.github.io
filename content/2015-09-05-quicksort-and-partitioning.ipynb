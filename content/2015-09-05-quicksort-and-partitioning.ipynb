{
 "cells": [
  {
   "cell_type": "markdown",
   "metadata": {},
   "source": [
    "Quicksort is a remarkably flexible algorithm with several\n",
    "variations. Here, I wanted to write about the Hoare partitioning method,\n",
    "in particular, about the special choice of its pivot as the leftmost\n",
    "element. First, lets quickly write down the partitioning algorithm from\n",
    "CLRS [exercise 7.1](http://clrs.skanev.com/07/problems/01.html)."
   ]
  },
  {
   "cell_type": "code",
   "execution_count": 1,
   "metadata": {
    "collapsed": true
   },
   "outputs": [],
   "source": [
    "def Hoare_Partition(A, p, r):\n",
    "    x = A[p]\n",
    "    i = p - 1\n",
    "    j = r + 1\n",
    "    while True:\n",
    "        while True:\n",
    "            j = j - 1\n",
    "            if A[j] <= x:\n",
    "                break\n",
    "        while True:\n",
    "            i = i + 1\n",
    "            if A[i] >= x:\n",
    "                break\n",
    "        if i < j:\n",
    "            A[i], A[j] = A[j], A[i]\n",
    "        else:\n",
    "            return j        \n",
    "# Output Assertion: A[p..j] <= x and A[j+1..r] >= x\n",
    "# in case we use last element to pivot"
   ]
  },
  {
   "cell_type": "markdown",
   "metadata": {},
   "source": [
    "This partitioning can be called from quicksort as:"
   ]
  },
  {
   "cell_type": "code",
   "execution_count": 5,
   "metadata": {
    "collapsed": false
   },
   "outputs": [
    {
     "data": {
      "text/plain": [
       "[3, 0, 1, 2, 5, 4]"
      ]
     },
     "execution_count": 5,
     "metadata": {},
     "output_type": "execute_result"
    }
   ],
   "source": [
    "def Quick_Sort(A, p, r):\n",
    "    if p < r:\n",
    "        q = Hoare_Partition(A, p, r)\n",
    "        Quick_Sort(A, p, q)\n",
    "        Quick_Sort(A, q + 1, r)\n",
    "\n",
    "l = [3,2,1,0,5,4]\n",
    "Quick_Sort(l, 1, 3)\n",
    "l"
   ]
  },
  {
   "cell_type": "markdown",
   "metadata": {},
   "source": [
    "Here, I have translated the algorithm into a simple python function. The only departure from the original algorithm are my implementations of the repeat-until loops as unconditional while loops that break. The parameter `A` is the array which is 0-indexed, though it does not really matter here. `p` and `r` are the boundaries of the sub-array which we wish to partition. Now, if one looks at the function definition, the pivot is used for comparisons of the array elements. However, most of the code looks to be pretty symmetric, when we compare the left and right endpoints of the sub-array. Essentially, in the code we are not \"favouring\" any particular endpoint, and repeating the same steps for both of them. The only place where there is some bias, is in the `return j` statement, wherein we return the current value of the right endpoint index.\n",
    "\n",
    "This led me to try using `A[r]` as the pivot. However, when I simply chose this element as the pivot, the algorithm did not terminate and went into an infinite loop with my test case. Some looking revealed that this was because the algorithm was not able to reduce the size of the partitions. Essentially, the array of size n, in the first recursion itself, was getting \"partitioned\" into two sub-arrays: `[0..n]` and `[n+1..n]`. This is obviously an error, as the second subarray is meaningless, and the first subarray is the same as the input itself! Clearly, the partitioning is sensitive to the positioning of the pivot. This is corroborated by CLRS exercise 7.1 where it is proved that if `r - p >= 2`, then `p <= j < r`. The strict inequality between j and r breaks down if we use the last element as the pivot. In fact, if we peep into the [proof](http://clrs.skanev.com/07/problems/01.html) of this ordering (which, in turn is required to prove the correctness of the partitioning), it assumes that the first element is the pivot. All this suggests that the recursive calls made in `Quick_Sort` should to be altered to:"
   ]
  },
  {
   "cell_type": "code",
   "execution_count": 11,
   "metadata": {
    "collapsed": true
   },
   "outputs": [],
   "source": [
    "def Quick_Sort_modded(A, p, r):\n",
    "    if p < r:\n",
    "        q = Hoare_Partition(A, p, r)\n",
    "        Quick_Sort_modded(A, p, q - 1)\n",
    "        Quick_Sort_modded(A, q, r)"
   ]
  },
  {
   "cell_type": "markdown",
   "metadata": {},
   "source": [
    "However, in order to do this, we must depend upon an altered output assertion of Hoare_Partition that looks like `A[p..i-1] <= x and A[i..r] >= x`. Symmetry in the function suggests that we should return i instead of j, and this can be further proved as well by formulating an invariant. So, the modified Hoare Partitioning should look like:"
   ]
  },
  {
   "cell_type": "code",
   "execution_count": 13,
   "metadata": {
    "collapsed": false
   },
   "outputs": [],
   "source": [
    "def Hoare_Partition_modded(A, p, r):\n",
    "    x = A[r]\n",
    "    i = p - 1\n",
    "    j = r + 1\n",
    "    while True:\n",
    "        while True:\n",
    "            j = j - 1\n",
    "            if A[j] <= x:\n",
    "                break\n",
    "        while True:\n",
    "            i = i + 1\n",
    "            if A[i] >= x:\n",
    "                break\n",
    "        if i < j:\n",
    "            A[i], A[j] = A[j], A[i]\n",
    "        else:\n",
    "            return i\n",
    "# Output Assertion: A[p..i-1] <= x and A[i..r] >= x\n",
    "# in case we use last element to pivot"
   ]
  },
  {
   "cell_type": "code",
   "execution_count": 14,
   "metadata": {
    "collapsed": false
   },
   "outputs": [
    {
     "data": {
      "text/plain": [
       "[3, 0, 1, 2, 5, 4]"
      ]
     },
     "execution_count": 14,
     "metadata": {},
     "output_type": "execute_result"
    }
   ],
   "source": [
    "def Quick_Sort_modded(A, p, r):\n",
    "    if p < r:\n",
    "        q = Hoare_Partition_modded(A, p, r)\n",
    "        Quick_Sort_modded(A, p, q - 1)\n",
    "        Quick_Sort_modded(A, q, r)\n",
    "        \n",
    "l = [3,2,1,0,5,4]\n",
    "Quick_Sort_modded(l, 1, 3)\n",
    "l"
   ]
  },
  {
   "cell_type": "code",
   "execution_count": null,
   "metadata": {
    "collapsed": true
   },
   "outputs": [],
   "source": []
  }
 ],
 "metadata": {
  "anaconda-cloud": {},
  "kernelspec": {
   "display_name": "Python [Root]",
   "language": "python",
   "name": "Python [Root]"
  },
  "language_info": {
   "codemirror_mode": {
    "name": "ipython",
    "version": 3
   },
   "file_extension": ".py",
   "mimetype": "text/x-python",
   "name": "python",
   "nbconvert_exporter": "python",
   "pygments_lexer": "ipython3",
   "version": "3.5.2"
  }
 },
 "nbformat": 4,
 "nbformat_minor": 0
}
